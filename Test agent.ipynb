{
 "cells": [
  {
   "cell_type": "code",
   "execution_count": 3,
   "metadata": {
    "colab": {
     "base_uri": "https://localhost:8080/"
    },
    "executionInfo": {
     "elapsed": 2034,
     "status": "ok",
     "timestamp": 1651759635449,
     "user": {
      "displayName": "Gabriel González Sahagún",
      "userId": "12497170045078186877"
     },
     "user_tz": 300
    },
    "id": "iDwFWUHjSfoe",
    "outputId": "2a26e0d6-fdd6-40b9-cf0c-018d59f67a38"
   },
   "outputs": [],
   "source": [
    "import sys\n",
    "\n",
    "sys.path.insert(0, './ModelCompression')\n",
    "dataset = 'mnist'\n",
    "current_state = 'layer_input'\n",
    "next_state = 'layer_output'"
   ]
  },
  {
   "cell_type": "code",
   "execution_count": 4,
   "metadata": {
    "id": "VtFjvWDHDi7s"
   },
   "outputs": [],
   "source": [
    "import tensorflow as tf\n",
    "import matplotlib.pyplot as plt\n",
    "import numpy as np\n",
    "import logging\n",
    "import pandas as pd\n",
    "from IPython.display import clear_output\n",
    "from tqdm import tqdm\n",
    "from CompressionLibrary.utils import *\n",
    "from CompressionLibrary.CompressionTechniques import *\n",
    "from CompressionLibrary.replay_buffer import ReplayBuffer\n",
    "from CompressionLibrary.environments import *\n",
    "from CompressionLibrary.custom_layers import ROIEmbedding, ROIEmbedding1D\n",
    "from CompressionLibrary.reinforcement_models import DQNAgent\n",
    "import sys\n",
    "import gc\n",
    "\n",
    "logging.basicConfig(level=logging.INFO, handlers=[\n",
    "        logging.FileHandler('./data/ModelCompression.log')],\n",
    "        # logging.StreamHandler()], \n",
    "        format='%(asctime)s -%(levelname)s - %(funcName)s -  %(message)s')"
   ]
  },
  {
   "cell_type": "markdown",
   "metadata": {
    "id": "MsaHYVHADxOm"
   },
   "source": [
    "# Evaluate agent"
   ]
  },
  {
   "cell_type": "code",
   "execution_count": 5,
   "metadata": {
    "id": "AKAqNGjYdaa5"
   },
   "outputs": [],
   "source": [
    "def evaluate_adadeep(env, conv_agent, fc_agent, n_games=1, greedy=True, t_max=10000):\n",
    "    \"\"\" Plays n_games full games. If greedy, picks actions as argmax(qvalues). Returns mean reward. \"\"\"\n",
    "    rewards = []\n",
    "    acc = []\n",
    "    weights = []\n",
    "    infos = []\n",
    "    for _ in range(n_games):\n",
    "        s = env.reset()\n",
    "        reward = 0\n",
    "        df = pd.DataFrame()\n",
    "        for k in range(len(env.layer_name_list)):\n",
    "            next_layer_name = env.layer_name_list[env._layer_counter]\n",
    "            layer = env.model.get_layer(next_layer_name)\n",
    "            was_conv = False\n",
    "            random_images = s[np.random.choice(s.shape[0], size=128)]\n",
    "            if isinstance(layer, tf.keras.layers.Conv2D):\n",
    "                # qvalues = conv_agent.get_qvalues(random_image).numpy()\n",
    "                # action = conv_agent.sample_actions(qvalues)[0]\n",
    "                qvalues = conv_agent.get_qvalues(random_images).numpy()\n",
    "                action = conv_agent.sample_actions_using_mode(qvalues)[0]\n",
    "                was_conv = True\n",
    "            if isinstance(layer, tf.keras.layers.Dense):\n",
    "                qvalues = fc_agent.get_qvalues(random_images).numpy()\n",
    "                action = fc_agent.sample_actions_using_mode(qvalues)[0]\n",
    "\n",
    "            new_s, r, done, info = env.step(action)\n",
    "            s = env.get_state('current_state')\n",
    "            if done:\n",
    "                s = env.reset()\n",
    "                break\n",
    "\n",
    "            row = {'state': s, 'action': action, 'reward': r,\n",
    "                   'next_state': new_s, 'done': done, 'info': info}\n",
    "            df = df.append(row, ignore_index=True)\n",
    "\n",
    "        # Calculate reward using stats before and after compression\n",
    "        before_stats = df.iloc[0]['info']\n",
    "        after_stats = df.iloc[-1]['info']\n",
    "        reward = 1 - after_stats['weights_after'] / \\\n",
    "            before_stats['weights_before'] + after_stats['acc_after']\n",
    "\n",
    "        rewards.append(reward)\n",
    "        acc.append(info['acc_after'])\n",
    "        weights.append(info['weights_after'])\n",
    "    return np.mean(rewards), np.mean(acc), np.mean(weights)"
   ]
  },
  {
   "cell_type": "markdown",
   "metadata": {
    "id": "lUpQpUdZD1xo"
   },
   "source": [
    "# Create environment"
   ]
  },
  {
   "cell_type": "code",
   "execution_count": 6,
   "metadata": {
    "colab": {
     "base_uri": "https://localhost:8080/"
    },
    "executionInfo": {
     "elapsed": 33166,
     "status": "ok",
     "timestamp": 1651759675370,
     "user": {
      "displayName": "Gabriel González Sahagún",
      "userId": "12497170045078186877"
     },
     "user_tz": 300
    },
    "id": "Qdxi8xTrIx0Z",
    "outputId": "e77766f5-830f-4005-b096-6a84ac6eef0f"
   },
   "outputs": [
    {
     "name": "stdout",
     "output_type": "stream",
     "text": [
      "Model: \"sequential\"\n",
      "_________________________________________________________________\n",
      "Layer (type)                 Output Shape              Param #   \n",
      "=================================================================\n",
      "conv2d_0 (Conv2D)            (None, 26, 26, 32)        320       \n",
      "_________________________________________________________________\n",
      "conv2d_1 (Conv2D)            (None, 24, 24, 32)        9248      \n",
      "_________________________________________________________________\n",
      "max_pooling2d (MaxPooling2D) (None, 12, 12, 32)        0         \n",
      "_________________________________________________________________\n",
      "flatten (Flatten)            (None, 4608)              0         \n",
      "_________________________________________________________________\n",
      "dense_0 (Dense)              (None, 128)               589952    \n",
      "_________________________________________________________________\n",
      "dense_1 (Dense)              (None, 128)               16512     \n",
      "_________________________________________________________________\n",
      "dense_softmax (Dense)        (None, 10)                1290      \n",
      "=================================================================\n",
      "Total params: 617,322\n",
      "Trainable params: 617,322\n",
      "Non-trainable params: 0\n",
      "_________________________________________________________________\n"
     ]
    }
   ],
   "source": [
    "def make_env(dataset, current_state_source='layer_input', next_state_source='layer_output'):\n",
    "    train_ds, valid_ds, test_ds, input_shape, num_classes = load_dataset(dataset)\n",
    "\n",
    "    model_path = './data/full_model/test_'+dataset\n",
    "    try:\n",
    "      model = tf.keras.models.load_model(model_path, compile=True)\n",
    "    except OSError:\n",
    "      optimizer = tf.keras.optimizers.Adam()\n",
    "      loss_object = tf.keras.losses.SparseCategoricalCrossentropy()\n",
    "      train_metric = tf.keras.metrics.SparseCategoricalAccuracy()\n",
    "      model = tf.keras.Sequential([tf.keras.layers.Conv2D(32, (3, 3), activation='relu', name='conv2d_0',\n",
    "                                                          input_shape=input_shape),\n",
    "                                    tf.keras.layers.Conv2D(32, (3, 3), activation='relu', name='conv2d_1'),\n",
    "                                    tf.keras.layers.MaxPool2D((2, 2), 2),\n",
    "                                    tf.keras.layers.Flatten(),\n",
    "                                    tf.keras.layers.Dense(128, activation='relu', name='dense_0'),\n",
    "                                    tf.keras.layers.Dense(128, activation='relu', name='dense_1'),\n",
    "                                    tf.keras.layers.Dense(num_classes, activation='softmax', name='dense_softmax')\n",
    "                                    ])\n",
    "      model.compile(optimizer=optimizer, loss=loss_object, metrics=train_metric)\n",
    "      model.fit(train_ds, epochs=5, validation_data=valid_ds)\n",
    "      model.save(model_path)\n",
    "\n",
    "\n",
    "    w_comprs = ['InsertDenseSVD', 'InsertDenseSparse', 'DeepCompression'] # 'InsertDenseSVDCustom'\n",
    "    c_comprs = ['InsertSVDConv', 'SparseConvolutionCompression','DepthwiseSeparableConvolution', 'SparseConnectionsCompression'] \n",
    "    l_comprs = ['FireLayerCompression', 'MLPCompression','ReplaceDenseWithGlobalAvgPool']\n",
    "    compressors_list = w_comprs + c_comprs + l_comprs\n",
    "\n",
    "    parameters = {}\n",
    "    parameters['DeepCompression'] = {'layer_name': 'dense_0', 'threshold': 0.001}\n",
    "    parameters['ReplaceDenseWithGlobalAvgPool'] = {'layer_name': 'dense_1'}\n",
    "    parameters['InsertDenseSVD'] = {'layer_name': 'dense_0', 'units': 16}\n",
    "    parameters['InsertDenseSVDCustom'] = {'layer_name': 'dense_0', 'units': 16}\n",
    "    parameters['InsertDenseSparse'] = {'layer_name': 'dense_0', 'verbose': True, 'units': 16}\n",
    "    parameters['InsertSVDConv'] = {'layer_name': 'conv2d_1', 'units': 8}\n",
    "    parameters['DepthwiseSeparableConvolution'] = {'layer_name': 'conv2d_1'}\n",
    "    parameters['FireLayerCompression'] = {'layer_name': 'conv2d_1'}\n",
    "    parameters['MLPCompression'] = {'layer_name': 'conv2d_1'}\n",
    "    parameters['SparseConvolutionCompression'] = {'layer_name': 'conv2d_1', 'bases':4}\n",
    "    parameters['SparseConnectionsCompression'] = {'layer_name': 'conv2d_1', 'epochs': 20,\n",
    "                                                  'target_perc': 0.75, 'conn_perc_per_epoch': 0.1}\n",
    "\n",
    "    layer_name_list = ['conv2d_1','dense_0', 'dense_1']\n",
    "\n",
    "    env = ModelCompressionEnv(compressors_list, model_path, parameters,\n",
    "                 train_ds, valid_ds, test_ds,\n",
    "                 layer_name_list, input_shape, current_state_source=current_state_source, next_state_source=next_state_source, verbose=False)\n",
    "    \n",
    "    return env\n",
    "\n",
    "env = make_env(dataset, current_state, next_state)\n",
    "env.model.summary()"
   ]
  },
  {
   "cell_type": "markdown",
   "metadata": {
    "id": "0sPJTrzJI2s-"
   },
   "source": [
    "# Create DQN for model compression\n"
   ]
  },
  {
   "cell_type": "code",
   "execution_count": 7,
   "metadata": {
    "colab": {
     "base_uri": "https://localhost:8080/"
    },
    "executionInfo": {
     "elapsed": 6839,
     "status": "ok",
     "timestamp": 1651759682203,
     "user": {
      "displayName": "Gabriel González Sahagún",
      "userId": "12497170045078186877"
     },
     "user_tz": 300
    },
    "id": "WSZAzi-RDnRr",
    "outputId": "e9d3413f-db5a-4860-a249-5645f41738ad"
   },
   "outputs": [
    {
     "name": "stdout",
     "output_type": "stream",
     "text": [
      "[26, 26, 32]\n",
      "Model: \"dqn_agent_fc\"\n",
      "_________________________________________________________________\n",
      "Layer (type)                 Output Shape              Param #   \n",
      "=================================================================\n",
      "input_4 (InputLayer)         [(None, None, 1)]         0         \n",
      "_________________________________________________________________\n",
      "roi_embedding1d (ROIEmbeddin (None, 63)                0         \n",
      "_________________________________________________________________\n",
      "dense (Dense)                (None, 512)               32768     \n",
      "_________________________________________________________________\n",
      "dense_1 (Dense)              (None, 4)                 2052      \n",
      "=================================================================\n",
      "Total params: 34,820\n",
      "Trainable params: 34,820\n",
      "Non-trainable params: 0\n",
      "_________________________________________________________________\n",
      "Model: \"target_network_fc\"\n",
      "_________________________________________________________________\n",
      "Layer (type)                 Output Shape              Param #   \n",
      "=================================================================\n",
      "input_5 (InputLayer)         [(None, None, 1)]         0         \n",
      "_________________________________________________________________\n",
      "roi_embedding1d_1 (ROIEmbedd (None, 63)                0         \n",
      "_________________________________________________________________\n",
      "dense_2 (Dense)              (None, 512)               32768     \n",
      "_________________________________________________________________\n",
      "dense_3 (Dense)              (None, 4)                 2052      \n",
      "=================================================================\n",
      "Total params: 34,820\n",
      "Trainable params: 34,820\n",
      "Non-trainable params: 0\n",
      "_________________________________________________________________\n",
      "Model: \"dqn_agent_conv\"\n",
      "_________________________________________________________________\n",
      "Layer (type)                 Output Shape              Param #   \n",
      "=================================================================\n",
      "input_6 (InputLayer)         [(None, None, None, 32)]  0         \n",
      "_________________________________________________________________\n",
      "conv2d (Conv2D)              (None, None, None, 64)    18496     \n",
      "_________________________________________________________________\n",
      "conv2d_1 (Conv2D)            (None, None, None, 64)    36928     \n",
      "_________________________________________________________________\n",
      "roi_embedding (ROIEmbedding) (None, 1344)              0         \n",
      "_________________________________________________________________\n",
      "dense_4 (Dense)              (None, 512)               688640    \n",
      "_________________________________________________________________\n",
      "dense_5 (Dense)              (None, 6)                 3078      \n",
      "=================================================================\n",
      "Total params: 747,142\n",
      "Trainable params: 747,142\n",
      "Non-trainable params: 0\n",
      "_________________________________________________________________\n",
      "Model: \"target_network_conv\"\n",
      "_________________________________________________________________\n",
      "Layer (type)                 Output Shape              Param #   \n",
      "=================================================================\n",
      "input_7 (InputLayer)         [(None, None, None, 32)]  0         \n",
      "_________________________________________________________________\n",
      "conv2d_2 (Conv2D)            (None, None, None, 64)    18496     \n",
      "_________________________________________________________________\n",
      "conv2d_3 (Conv2D)            (None, None, None, 64)    36928     \n",
      "_________________________________________________________________\n",
      "roi_embedding_1 (ROIEmbeddin (None, 1344)              0         \n",
      "_________________________________________________________________\n",
      "dense_6 (Dense)              (None, 512)               688640    \n",
      "_________________________________________________________________\n",
      "dense_7 (Dense)              (None, 6)                 3078      \n",
      "=================================================================\n",
      "Total params: 747,142\n",
      "Trainable params: 747,142\n",
      "Non-trainable params: 0\n",
      "_________________________________________________________________\n"
     ]
    }
   ],
   "source": [
    "fc_state_dim = (1,)\n",
    "fc_n_actions = len(env.dense_compressors)\n",
    "conv_state_dim = list(env.get_state('current_state').shape)[1:]\n",
    "print(conv_state_dim)\n",
    "conv_n_actions = len(env.conv_compressors)\n",
    "\n",
    "fc_agent = DQNAgent(\"dqn_agent_fc\", fc_state_dim, fc_n_actions, epsilon=0.9, layer_type='fc')\n",
    "fc_target_network = DQNAgent(\"target_network_fc\", fc_state_dim, fc_n_actions, layer_type='fc')\n",
    "\n",
    "\n",
    "conv_agent = DQNAgent(\"dqn_agent_conv\", conv_state_dim, conv_n_actions, epsilon=0.9, layer_type='cnn')\n",
    "conv_target_network = DQNAgent(\"target_network_conv\", conv_state_dim, conv_n_actions, layer_type='cnn')\n",
    "\n",
    "try:\n",
    "    conv_target_network.model.load_weights(\n",
    "        './data/checkpoints/{}_my_checkpoint_conv'.format(dataset))\n",
    "    fc_target_network.model.load_weights(\n",
    "        './data/checkpoints/{}_my_checkpoint_fc'.format(dataset))\n",
    "except:\n",
    "    raise"
   ]
  },
  {
   "cell_type": "markdown",
   "metadata": {
    "id": "30sGbVmEaXDS"
   },
   "source": [
    "# Training func\n"
   ]
  },
  {
   "cell_type": "code",
   "execution_count": 8,
   "metadata": {
    "id": "cNXKajHxJ8Jx"
   },
   "outputs": [
    {
     "ename": "KeyboardInterrupt",
     "evalue": "",
     "output_type": "error",
     "traceback": [
      "\u001b[0;31m---------------------------------------------------------------------------\u001b[0m",
      "\u001b[0;31mKeyboardInterrupt\u001b[0m                         Traceback (most recent call last)",
      "\u001b[0;32m<ipython-input-8-10faeb786204>\u001b[0m in \u001b[0;36m<module>\u001b[0;34m\u001b[0m\n\u001b[0;32m----> 1\u001b[0;31m \u001b[0mevaluate_adadeep\u001b[0m\u001b[0;34m(\u001b[0m\u001b[0mmake_env\u001b[0m\u001b[0;34m(\u001b[0m\u001b[0mdataset\u001b[0m\u001b[0;34m)\u001b[0m\u001b[0;34m,\u001b[0m \u001b[0mconv_agent\u001b[0m\u001b[0;34m,\u001b[0m \u001b[0mfc_agent\u001b[0m\u001b[0;34m,\u001b[0m \u001b[0mn_games\u001b[0m\u001b[0;34m=\u001b[0m\u001b[0;36m10\u001b[0m\u001b[0;34m)\u001b[0m\u001b[0;34m\u001b[0m\u001b[0;34m\u001b[0m\u001b[0m\n\u001b[0m",
      "\u001b[0;32m<ipython-input-5-f4947f9d855f>\u001b[0m in \u001b[0;36mevaluate_adadeep\u001b[0;34m(env, conv_agent, fc_agent, n_games, greedy, t_max)\u001b[0m\n\u001b[1;32m     24\u001b[0m                 \u001b[0maction\u001b[0m \u001b[0;34m=\u001b[0m \u001b[0mfc_agent\u001b[0m\u001b[0;34m.\u001b[0m\u001b[0msample_actions_using_mode\u001b[0m\u001b[0;34m(\u001b[0m\u001b[0mqvalues\u001b[0m\u001b[0;34m)\u001b[0m\u001b[0;34m[\u001b[0m\u001b[0;36m0\u001b[0m\u001b[0;34m]\u001b[0m\u001b[0;34m\u001b[0m\u001b[0;34m\u001b[0m\u001b[0m\n\u001b[1;32m     25\u001b[0m \u001b[0;34m\u001b[0m\u001b[0m\n\u001b[0;32m---> 26\u001b[0;31m             \u001b[0mnew_s\u001b[0m\u001b[0;34m,\u001b[0m \u001b[0mr\u001b[0m\u001b[0;34m,\u001b[0m \u001b[0mdone\u001b[0m\u001b[0;34m,\u001b[0m \u001b[0minfo\u001b[0m \u001b[0;34m=\u001b[0m \u001b[0menv\u001b[0m\u001b[0;34m.\u001b[0m\u001b[0mstep\u001b[0m\u001b[0;34m(\u001b[0m\u001b[0maction\u001b[0m\u001b[0;34m)\u001b[0m\u001b[0;34m\u001b[0m\u001b[0;34m\u001b[0m\u001b[0m\n\u001b[0m\u001b[1;32m     27\u001b[0m             \u001b[0ms\u001b[0m \u001b[0;34m=\u001b[0m \u001b[0menv\u001b[0m\u001b[0;34m.\u001b[0m\u001b[0mget_state\u001b[0m\u001b[0;34m(\u001b[0m\u001b[0;34m'current_state'\u001b[0m\u001b[0;34m)\u001b[0m\u001b[0;34m\u001b[0m\u001b[0;34m\u001b[0m\u001b[0m\n\u001b[1;32m     28\u001b[0m             \u001b[0;32mif\u001b[0m \u001b[0mdone\u001b[0m\u001b[0;34m:\u001b[0m\u001b[0;34m\u001b[0m\u001b[0;34m\u001b[0m\u001b[0m\n",
      "\u001b[0;32m~/DCC/ModelCompression/CompressionLibrary/environments.py\u001b[0m in \u001b[0;36mstep\u001b[0;34m(self, action)\u001b[0m\n\u001b[1;32m    388\u001b[0m                                   ]['layer_name'] = layer_name\n\u001b[1;32m    389\u001b[0m                 compressor.compress_layer(\n\u001b[0;32m--> 390\u001b[0;31m                     **self.compr_params[compressors[action]])\n\u001b[0m\u001b[1;32m    391\u001b[0m             \u001b[0;32melse\u001b[0m\u001b[0;34m:\u001b[0m\u001b[0;34m\u001b[0m\u001b[0;34m\u001b[0m\u001b[0m\n\u001b[1;32m    392\u001b[0m                 \u001b[0mcompressor\u001b[0m\u001b[0;34m.\u001b[0m\u001b[0mcompress_layer\u001b[0m\u001b[0;34m(\u001b[0m\u001b[0mlayer_name\u001b[0m\u001b[0;34m=\u001b[0m\u001b[0mlayer_name\u001b[0m\u001b[0;34m)\u001b[0m\u001b[0;34m\u001b[0m\u001b[0;34m\u001b[0m\u001b[0m\n",
      "\u001b[0;32m~/DCC/ModelCompression/CompressionLibrary/CompressionTechniques.py\u001b[0m in \u001b[0;36mcompress_layer\u001b[0;34m(self, layer_name, iterations)\u001b[0m\n\u001b[1;32m    692\u001b[0m                 \u001b[0mx_in\u001b[0m \u001b[0;34m=\u001b[0m \u001b[0mgenerate_input\u001b[0m\u001b[0;34m(\u001b[0m\u001b[0mx\u001b[0m\u001b[0;34m)\u001b[0m\u001b[0;34m\u001b[0m\u001b[0;34m\u001b[0m\u001b[0m\n\u001b[1;32m    693\u001b[0m                 \u001b[0my\u001b[0m \u001b[0;34m=\u001b[0m \u001b[0mgenerate_output\u001b[0m\u001b[0;34m(\u001b[0m\u001b[0mx\u001b[0m\u001b[0;34m)\u001b[0m\u001b[0;34m\u001b[0m\u001b[0;34m\u001b[0m\u001b[0m\n\u001b[0;32m--> 694\u001b[0;31m                 \u001b[0mloss\u001b[0m\u001b[0;34m.\u001b[0m\u001b[0mappend\u001b[0m\u001b[0;34m(\u001b[0m\u001b[0mmlp_model\u001b[0m\u001b[0;34m.\u001b[0m\u001b[0mtrain_on_batch\u001b[0m\u001b[0;34m(\u001b[0m\u001b[0mx_in\u001b[0m\u001b[0;34m,\u001b[0m \u001b[0my\u001b[0m\u001b[0;34m)\u001b[0m\u001b[0;34m)\u001b[0m\u001b[0;34m\u001b[0m\u001b[0;34m\u001b[0m\u001b[0m\n\u001b[0m\u001b[1;32m    695\u001b[0m \u001b[0;34m\u001b[0m\u001b[0m\n\u001b[1;32m    696\u001b[0m             \u001b[0mself\u001b[0m\u001b[0;34m.\u001b[0m\u001b[0mlogger\u001b[0m\u001b[0;34m.\u001b[0m\u001b[0mdebug\u001b[0m\u001b[0;34m(\u001b[0m\u001b[0;34m'Finished all batches for iteration={}. Loss was mean {} sum {}.'\u001b[0m\u001b[0;34m.\u001b[0m\u001b[0mformat\u001b[0m\u001b[0;34m(\u001b[0m\u001b[0mi\u001b[0m\u001b[0;34m,\u001b[0m \u001b[0mnp\u001b[0m\u001b[0;34m.\u001b[0m\u001b[0mmean\u001b[0m\u001b[0;34m(\u001b[0m\u001b[0mloss\u001b[0m\u001b[0;34m)\u001b[0m\u001b[0;34m,\u001b[0m \u001b[0mnp\u001b[0m\u001b[0;34m.\u001b[0m\u001b[0msum\u001b[0m\u001b[0;34m(\u001b[0m\u001b[0mloss\u001b[0m\u001b[0;34m)\u001b[0m\u001b[0;34m)\u001b[0m\u001b[0;34m)\u001b[0m\u001b[0;34m\u001b[0m\u001b[0;34m\u001b[0m\u001b[0m\n",
      "\u001b[0;32m~/anaconda3/envs/mc/lib/python3.6/site-packages/keras/engine/training.py\u001b[0m in \u001b[0;36mtrain_on_batch\u001b[0;34m(self, x, y, sample_weight, class_weight, reset_metrics, return_dict)\u001b[0m\n\u001b[1;32m   1852\u001b[0m       iterator = data_adapter.single_batch_iterator(self.distribute_strategy, x,\n\u001b[1;32m   1853\u001b[0m                                                     \u001b[0my\u001b[0m\u001b[0;34m,\u001b[0m \u001b[0msample_weight\u001b[0m\u001b[0;34m,\u001b[0m\u001b[0;34m\u001b[0m\u001b[0;34m\u001b[0m\u001b[0m\n\u001b[0;32m-> 1854\u001b[0;31m                                                     class_weight)\n\u001b[0m\u001b[1;32m   1855\u001b[0m       \u001b[0mself\u001b[0m\u001b[0;34m.\u001b[0m\u001b[0mtrain_function\u001b[0m \u001b[0;34m=\u001b[0m \u001b[0mself\u001b[0m\u001b[0;34m.\u001b[0m\u001b[0mmake_train_function\u001b[0m\u001b[0;34m(\u001b[0m\u001b[0;34m)\u001b[0m\u001b[0;34m\u001b[0m\u001b[0;34m\u001b[0m\u001b[0m\n\u001b[1;32m   1856\u001b[0m       \u001b[0mlogs\u001b[0m \u001b[0;34m=\u001b[0m \u001b[0mself\u001b[0m\u001b[0;34m.\u001b[0m\u001b[0mtrain_function\u001b[0m\u001b[0;34m(\u001b[0m\u001b[0miterator\u001b[0m\u001b[0;34m)\u001b[0m\u001b[0;34m\u001b[0m\u001b[0;34m\u001b[0m\u001b[0m\n",
      "\u001b[0;32m~/anaconda3/envs/mc/lib/python3.6/site-packages/keras/engine/data_adapter.py\u001b[0m in \u001b[0;36msingle_batch_iterator\u001b[0;34m(strategy, x, y, sample_weight, class_weight)\u001b[0m\n\u001b[1;32m   1632\u001b[0m \u001b[0;34m\u001b[0m\u001b[0m\n\u001b[1;32m   1633\u001b[0m   \u001b[0m_check_data_cardinality\u001b[0m\u001b[0;34m(\u001b[0m\u001b[0mdata\u001b[0m\u001b[0;34m)\u001b[0m\u001b[0;34m\u001b[0m\u001b[0;34m\u001b[0m\u001b[0m\n\u001b[0;32m-> 1634\u001b[0;31m   \u001b[0mdataset\u001b[0m \u001b[0;34m=\u001b[0m \u001b[0mtf\u001b[0m\u001b[0;34m.\u001b[0m\u001b[0mdata\u001b[0m\u001b[0;34m.\u001b[0m\u001b[0mDataset\u001b[0m\u001b[0;34m.\u001b[0m\u001b[0mfrom_tensors\u001b[0m\u001b[0;34m(\u001b[0m\u001b[0mdata\u001b[0m\u001b[0;34m)\u001b[0m\u001b[0;34m\u001b[0m\u001b[0;34m\u001b[0m\u001b[0m\n\u001b[0m\u001b[1;32m   1635\u001b[0m   \u001b[0;32mif\u001b[0m \u001b[0mclass_weight\u001b[0m\u001b[0;34m:\u001b[0m\u001b[0;34m\u001b[0m\u001b[0;34m\u001b[0m\u001b[0m\n\u001b[1;32m   1636\u001b[0m     \u001b[0mdataset\u001b[0m \u001b[0;34m=\u001b[0m \u001b[0mdataset\u001b[0m\u001b[0;34m.\u001b[0m\u001b[0mmap\u001b[0m\u001b[0;34m(\u001b[0m\u001b[0m_make_class_weight_map_fn\u001b[0m\u001b[0;34m(\u001b[0m\u001b[0mclass_weight\u001b[0m\u001b[0;34m)\u001b[0m\u001b[0;34m)\u001b[0m\u001b[0;34m\u001b[0m\u001b[0;34m\u001b[0m\u001b[0m\n",
      "\u001b[0;32m~/anaconda3/envs/mc/lib/python3.6/site-packages/tensorflow/python/data/ops/dataset_ops.py\u001b[0m in \u001b[0;36mfrom_tensors\u001b[0;34m(tensors)\u001b[0m\n\u001b[1;32m    604\u001b[0m       \u001b[0mDataset\u001b[0m\u001b[0;34m:\u001b[0m \u001b[0mA\u001b[0m\u001b[0;31m \u001b[0m\u001b[0;31m`\u001b[0m\u001b[0mDataset\u001b[0m\u001b[0;31m`\u001b[0m\u001b[0;34m.\u001b[0m\u001b[0;34m\u001b[0m\u001b[0;34m\u001b[0m\u001b[0m\n\u001b[1;32m    605\u001b[0m     \"\"\"\n\u001b[0;32m--> 606\u001b[0;31m     \u001b[0;32mreturn\u001b[0m \u001b[0mTensorDataset\u001b[0m\u001b[0;34m(\u001b[0m\u001b[0mtensors\u001b[0m\u001b[0;34m)\u001b[0m\u001b[0;34m\u001b[0m\u001b[0;34m\u001b[0m\u001b[0m\n\u001b[0m\u001b[1;32m    607\u001b[0m \u001b[0;34m\u001b[0m\u001b[0m\n\u001b[1;32m    608\u001b[0m   \u001b[0;34m@\u001b[0m\u001b[0mstaticmethod\u001b[0m\u001b[0;34m\u001b[0m\u001b[0;34m\u001b[0m\u001b[0m\n",
      "\u001b[0;32m~/anaconda3/envs/mc/lib/python3.6/site-packages/tensorflow/python/data/ops/dataset_ops.py\u001b[0m in \u001b[0;36m__init__\u001b[0;34m(self, element)\u001b[0m\n\u001b[1;32m   3829\u001b[0m     variant_tensor = gen_dataset_ops.tensor_dataset(\n\u001b[1;32m   3830\u001b[0m         \u001b[0mself\u001b[0m\u001b[0;34m.\u001b[0m\u001b[0m_tensors\u001b[0m\u001b[0;34m,\u001b[0m\u001b[0;34m\u001b[0m\u001b[0;34m\u001b[0m\u001b[0m\n\u001b[0;32m-> 3831\u001b[0;31m         output_shapes=structure.get_flat_tensor_shapes(self._structure))\n\u001b[0m\u001b[1;32m   3832\u001b[0m     \u001b[0msuper\u001b[0m\u001b[0;34m(\u001b[0m\u001b[0mTensorDataset\u001b[0m\u001b[0;34m,\u001b[0m \u001b[0mself\u001b[0m\u001b[0;34m)\u001b[0m\u001b[0;34m.\u001b[0m\u001b[0m__init__\u001b[0m\u001b[0;34m(\u001b[0m\u001b[0mvariant_tensor\u001b[0m\u001b[0;34m)\u001b[0m\u001b[0;34m\u001b[0m\u001b[0;34m\u001b[0m\u001b[0m\n\u001b[1;32m   3833\u001b[0m \u001b[0;34m\u001b[0m\u001b[0m\n",
      "\u001b[0;32m~/anaconda3/envs/mc/lib/python3.6/site-packages/tensorflow/python/data/util/structure.py\u001b[0m in \u001b[0;36mget_flat_tensor_shapes\u001b[0;34m(element_spec)\u001b[0m\n\u001b[1;32m    295\u001b[0m     \u001b[0mA\u001b[0m \u001b[0mlist\u001b[0m\u001b[0;31m \u001b[0m\u001b[0;31m`\u001b[0m\u001b[0mtf\u001b[0m\u001b[0;34m.\u001b[0m\u001b[0mTensorShapes\u001b[0m\u001b[0;31m`\u001b[0m\u001b[0ms\u001b[0m \u001b[0;32mfor\u001b[0m \u001b[0mthe\u001b[0m \u001b[0melement\u001b[0m \u001b[0mtensor\u001b[0m \u001b[0mrepresentation\u001b[0m\u001b[0;34m.\u001b[0m\u001b[0;34m\u001b[0m\u001b[0;34m\u001b[0m\u001b[0m\n\u001b[1;32m    296\u001b[0m   \"\"\"\n\u001b[0;32m--> 297\u001b[0;31m   \u001b[0;32mreturn\u001b[0m \u001b[0;34m[\u001b[0m\u001b[0mspec\u001b[0m\u001b[0;34m.\u001b[0m\u001b[0mshape\u001b[0m \u001b[0;32mfor\u001b[0m \u001b[0mspec\u001b[0m \u001b[0;32min\u001b[0m \u001b[0mget_flat_tensor_specs\u001b[0m\u001b[0;34m(\u001b[0m\u001b[0melement_spec\u001b[0m\u001b[0;34m)\u001b[0m\u001b[0;34m]\u001b[0m\u001b[0;34m\u001b[0m\u001b[0;34m\u001b[0m\u001b[0m\n\u001b[0m\u001b[1;32m    298\u001b[0m \u001b[0;34m\u001b[0m\u001b[0m\n\u001b[1;32m    299\u001b[0m \u001b[0;34m\u001b[0m\u001b[0m\n",
      "\u001b[0;32m~/anaconda3/envs/mc/lib/python3.6/site-packages/tensorflow/python/data/util/structure.py\u001b[0m in \u001b[0;36mget_flat_tensor_specs\u001b[0;34m(element_spec)\u001b[0m\n\u001b[1;32m    282\u001b[0m   \u001b[0;31m# pylint: disable=protected-access\u001b[0m\u001b[0;34m\u001b[0m\u001b[0;34m\u001b[0m\u001b[0;34m\u001b[0m\u001b[0m\n\u001b[1;32m    283\u001b[0m   return functools.reduce(lambda state, value: state + value._flat_tensor_specs,\n\u001b[0;32m--> 284\u001b[0;31m                           nest.flatten(element_spec), [])\n\u001b[0m\u001b[1;32m    285\u001b[0m \u001b[0;34m\u001b[0m\u001b[0m\n\u001b[1;32m    286\u001b[0m \u001b[0;34m\u001b[0m\u001b[0m\n",
      "\u001b[0;32m~/anaconda3/envs/mc/lib/python3.6/site-packages/tensorflow/python/data/util/structure.py\u001b[0m in \u001b[0;36m<lambda>\u001b[0;34m(state, value)\u001b[0m\n\u001b[1;32m    281\u001b[0m \u001b[0;34m\u001b[0m\u001b[0m\n\u001b[1;32m    282\u001b[0m   \u001b[0;31m# pylint: disable=protected-access\u001b[0m\u001b[0;34m\u001b[0m\u001b[0;34m\u001b[0m\u001b[0;34m\u001b[0m\u001b[0m\n\u001b[0;32m--> 283\u001b[0;31m   return functools.reduce(lambda state, value: state + value._flat_tensor_specs,\n\u001b[0m\u001b[1;32m    284\u001b[0m                           nest.flatten(element_spec), [])\n\u001b[1;32m    285\u001b[0m \u001b[0;34m\u001b[0m\u001b[0m\n",
      "\u001b[0;32m~/anaconda3/envs/mc/lib/python3.6/site-packages/tensorflow/python/framework/type_spec.py\u001b[0m in \u001b[0;36m_flat_tensor_specs\u001b[0;34m(self)\u001b[0m\n\u001b[1;32m    273\u001b[0m   \u001b[0;32mdef\u001b[0m \u001b[0m_flat_tensor_specs\u001b[0m\u001b[0;34m(\u001b[0m\u001b[0mself\u001b[0m\u001b[0;34m)\u001b[0m\u001b[0;34m:\u001b[0m\u001b[0;34m\u001b[0m\u001b[0;34m\u001b[0m\u001b[0m\n\u001b[1;32m    274\u001b[0m     \u001b[0;34m\"\"\"A list of TensorSpecs compatible with self._to_tensor_list(v).\"\"\"\u001b[0m\u001b[0;34m\u001b[0m\u001b[0;34m\u001b[0m\u001b[0m\n\u001b[0;32m--> 275\u001b[0;31m     \u001b[0;32mreturn\u001b[0m \u001b[0mnest\u001b[0m\u001b[0;34m.\u001b[0m\u001b[0mflatten\u001b[0m\u001b[0;34m(\u001b[0m\u001b[0mself\u001b[0m\u001b[0;34m.\u001b[0m\u001b[0m_component_specs\u001b[0m\u001b[0;34m,\u001b[0m \u001b[0mexpand_composites\u001b[0m\u001b[0;34m=\u001b[0m\u001b[0;32mTrue\u001b[0m\u001b[0;34m)\u001b[0m\u001b[0;34m\u001b[0m\u001b[0;34m\u001b[0m\u001b[0m\n\u001b[0m\u001b[1;32m    276\u001b[0m \u001b[0;34m\u001b[0m\u001b[0m\n\u001b[1;32m    277\u001b[0m   \u001b[0;31m# === Serialization for types ===\u001b[0m\u001b[0;34m\u001b[0m\u001b[0;34m\u001b[0m\u001b[0;34m\u001b[0m\u001b[0m\n",
      "\u001b[0;31mKeyboardInterrupt\u001b[0m: "
     ]
    }
   ],
   "source": [
    "\n",
    "\n",
    "\n",
    "evaluate_adadeep(make_env(dataset), conv_agent, fc_agent, n_games=10)"
   ]
  }
 ],
 "metadata": {
  "accelerator": "GPU",
  "colab": {
   "authorship_tag": "ABX9TyOYRqGZw/7rs34FXdZBQ/V7",
   "collapsed_sections": [
    "lUpQpUdZD1xo",
    "0sPJTrzJI2s-",
    "xG06jA42xer3"
   ],
   "name": "Adadeep.ipynb",
   "provenance": []
  },
  "interpreter": {
   "hash": "51ccaed8c3f743b1f0f573d1bf9b420e6968f0ad98d33b49a16252e93b5cad05"
  },
  "kernelspec": {
   "display_name": "Python 3.6.13 ('mc')",
   "language": "python",
   "name": "python3"
  },
  "language_info": {
   "codemirror_mode": {
    "name": "ipython",
    "version": 3
   },
   "file_extension": ".py",
   "mimetype": "text/x-python",
   "name": "python",
   "nbconvert_exporter": "python",
   "pygments_lexer": "ipython3",
   "version": "3.6.13"
  }
 },
 "nbformat": 4,
 "nbformat_minor": 1
}
